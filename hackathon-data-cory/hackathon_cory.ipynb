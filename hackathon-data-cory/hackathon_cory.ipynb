{
 "cells": [
  {
   "cell_type": "markdown",
   "metadata": {
    "application/vnd.databricks.v1+cell": {
     "cellMetadata": {
      "byteLimit": 2048000,
      "rowLimit": 10000
     },
     "inputWidgets": {},
     "nuid": "dc53223f-0c6d-4d81-b4be-191f5462d85b",
     "showTitle": false,
     "tableResultSettingsMap": {},
     "title": ""
    }
   },
   "source": [
    "# Data Hackathon - Player Goals Per 90 In the Premier League"
   ]
  },
  {
   "cell_type": "markdown",
   "metadata": {
    "application/vnd.databricks.v1+cell": {
     "cellMetadata": {
      "byteLimit": 2048000,
      "rowLimit": 10000
     },
     "inputWidgets": {},
     "nuid": "510f1895-e8d4-4981-ab8b-4a9ec4072d0d",
     "showTitle": false,
     "tableResultSettingsMap": {},
     "title": ""
    }
   },
   "source": [
    "## Analysis Questions\n",
    "\n",
    "1. Which players have the highest Goals per 90 across different teams?\n",
    "2. Do certain countries produce players with higher scoring rates?\n",
    "3. How does total goals vary by number of matches played?\n",
    "4. Which teams have the highest average Goals per 90 across their players?"
   ]
  },
  {
   "cell_type": "markdown",
   "metadata": {
    "application/vnd.databricks.v1+cell": {
     "cellMetadata": {
      "byteLimit": 2048000,
      "rowLimit": 10000
     },
     "inputWidgets": {},
     "nuid": "70061d27-bc21-452b-b2c9-238b550f6f88",
     "showTitle": false,
     "tableResultSettingsMap": {},
     "title": ""
    }
   },
   "source": [
    "## Hypothesis\n",
    "\n",
    "1. Players with more minutes played tend to have lower goals.\n",
    "\n",
    "2. Players from top-performing teams have higher Goals per 90 on average than those from lower-ranked teams."
   ]
  },
  {
   "cell_type": "markdown",
   "metadata": {
    "application/vnd.databricks.v1+cell": {
     "cellMetadata": {
      "byteLimit": 2048000,
      "rowLimit": 10000
     },
     "inputWidgets": {},
     "nuid": "136d6f90-35b0-4e00-8da5-3328ce71ce94",
     "showTitle": false,
     "tableResultSettingsMap": {},
     "title": ""
    }
   },
   "source": [
    "## Target variable for Machine Learning\n",
    "\n",
    "- Total Goals"
   ]
  },
  {
   "cell_type": "code",
   "execution_count": 0,
   "metadata": {
    "application/vnd.databricks.v1+cell": {
     "cellMetadata": {
      "byteLimit": 2048000,
      "rowLimit": 10000
     },
     "inputWidgets": {},
     "nuid": "857ced2b-d830-4754-a84f-936cef2483e5",
     "showTitle": false,
     "tableResultSettingsMap": {},
     "title": ""
    }
   },
   "outputs": [],
   "source": [
    "import pandas as pd\n",
    "import seaborn as sns\n",
    "import matplotlib.pyplot as plt\n",
    "\n",
    "df = pd.read_csv('player_goals_per_90.csv')"
   ]
  },
  {
   "cell_type": "code",
   "execution_count": 0,
   "metadata": {
    "application/vnd.databricks.v1+cell": {
     "cellMetadata": {
      "byteLimit": 2048000,
      "rowLimit": 10000
     },
     "inputWidgets": {},
     "nuid": "036c6c77-4abf-41ea-8321-e2039959a34e",
     "showTitle": false,
     "tableResultSettingsMap": {},
     "title": ""
    }
   },
   "outputs": [],
   "source": [
    "df.head()"
   ]
  },
  {
   "cell_type": "code",
   "execution_count": 0,
   "metadata": {
    "application/vnd.databricks.v1+cell": {
     "cellMetadata": {
      "byteLimit": 2048000,
      "rowLimit": 10000
     },
     "inputWidgets": {},
     "nuid": "47d384e0-595c-4ba4-b6c7-a63c57106c10",
     "showTitle": false,
     "tableResultSettingsMap": {},
     "title": ""
    }
   },
   "outputs": [],
   "source": [
    "df.drop(columns=['Rank'], inplace=True)"
   ]
  },
  {
   "cell_type": "code",
   "execution_count": 0,
   "metadata": {
    "application/vnd.databricks.v1+cell": {
     "cellMetadata": {
      "byteLimit": 2048000,
      "rowLimit": 10000
     },
     "inputWidgets": {},
     "nuid": "a2944bb0-69da-491a-91ff-10aa5511d93d",
     "showTitle": false,
     "tableResultSettingsMap": {},
     "title": ""
    }
   },
   "outputs": [],
   "source": [
    "df.head()"
   ]
  },
  {
   "cell_type": "code",
   "execution_count": 0,
   "metadata": {
    "application/vnd.databricks.v1+cell": {
     "cellMetadata": {
      "byteLimit": 2048000,
      "rowLimit": 10000
     },
     "inputWidgets": {},
     "nuid": "b68d7f2f-b397-4b53-a384-08655e147b6e",
     "showTitle": false,
     "tableResultSettingsMap": {},
     "title": ""
    }
   },
   "outputs": [],
   "source": [
    "df.info()"
   ]
  },
  {
   "cell_type": "code",
   "execution_count": 0,
   "metadata": {
    "application/vnd.databricks.v1+cell": {
     "cellMetadata": {
      "byteLimit": 2048000,
      "rowLimit": 10000
     },
     "inputWidgets": {},
     "nuid": "dd169de6-d57b-4cc6-a9f5-138af1e945aa",
     "showTitle": false,
     "tableResultSettingsMap": {},
     "title": ""
    }
   },
   "outputs": [],
   "source": [
    "df['Total Goals'] = df['Total Goals'].astype(int)"
   ]
  },
  {
   "cell_type": "code",
   "execution_count": 0,
   "metadata": {
    "application/vnd.databricks.v1+cell": {
     "cellMetadata": {
      "byteLimit": 2048000,
      "rowLimit": 10000
     },
     "inputWidgets": {},
     "nuid": "4acd691b-2160-4bdf-b2a5-52e314de627e",
     "showTitle": false,
     "tableResultSettingsMap": {},
     "title": ""
    }
   },
   "outputs": [],
   "source": [
    "df.info()"
   ]
  },
  {
   "cell_type": "code",
   "execution_count": 0,
   "metadata": {
    "application/vnd.databricks.v1+cell": {
     "cellMetadata": {
      "byteLimit": 2048000,
      "rowLimit": 10000
     },
     "inputWidgets": {},
     "nuid": "49b3aade-1777-4d02-9cb5-f89cb1381617",
     "showTitle": false,
     "tableResultSettingsMap": {},
     "title": ""
    }
   },
   "outputs": [],
   "source": [
    "df.head()"
   ]
  },
  {
   "cell_type": "code",
   "execution_count": 0,
   "metadata": {
    "application/vnd.databricks.v1+cell": {
     "cellMetadata": {
      "byteLimit": 2048000,
      "rowLimit": 10000
     },
     "inputWidgets": {},
     "nuid": "4f257c33-8822-41a5-9f9f-59757de30804",
     "showTitle": false,
     "tableResultSettingsMap": {},
     "title": ""
    }
   },
   "outputs": [],
   "source": [
    "df['Country'].unique()"
   ]
  },
  {
   "cell_type": "code",
   "execution_count": 0,
   "metadata": {
    "application/vnd.databricks.v1+cell": {
     "cellMetadata": {
      "byteLimit": 2048000,
      "rowLimit": 10000
     },
     "inputWidgets": {},
     "nuid": "4703ddc4-1462-49b6-a033-58bc575e7994",
     "showTitle": false,
     "tableResultSettingsMap": {},
     "title": ""
    }
   },
   "outputs": [],
   "source": [
    "country_mapping = {\n",
    "    'COL': 'Colombia',\n",
    "    'NOR': 'Norway', \n",
    "    'SWE': 'Sweden',\n",
    "    'ENG': 'England',\n",
    "    'POR': 'Portugal',\n",
    "    'NZL': 'New Zealand',\n",
    "    'FRA': 'France',\n",
    "    'BEL': 'Belgium',\n",
    "    'BRA': 'Brazil',\n",
    "    'EGY': 'Egypt',\n",
    "    'KOR': 'South Korea',\n",
    "    'NGA': 'Nigeria',\n",
    "    'URU': 'Uruguay',\n",
    "    'SEN': 'Senegal',\n",
    "    'MEX': 'Mexico',\n",
    "    'GER': 'Germany',\n",
    "    'NED': 'Netherlands',\n",
    "    'COD': 'DR Congo',\n",
    "    'JAM': 'Jamaica',\n",
    "    'DEN': 'Denmark',\n",
    "    'SCO': 'Scotland',\n",
    "    'CMR': 'Cameroon',\n",
    "    'IRL': 'Ireland',\n",
    "    'ARG': 'Argentina',\n",
    "    'ESP': 'Spain',\n",
    "    'GHA': 'Ghana',\n",
    "    'UKR': 'Ukraine',\n",
    "    'MLI': 'Mali',\n",
    "    'CIV': 'Ivory Coast',\n",
    "    'RSA': 'South Africa',\n",
    "    'SUI': 'Switzerland',\n",
    "    'CZE': 'Czech Republic',\n",
    "    'WAL': 'Wales',\n",
    "    'ITA': 'Italy',\n",
    "    'HAI': 'Haiti',\n",
    "    'JPN': 'Japan',\n",
    "    'ALB': 'Albania',\n",
    "    'CRO': 'Croatia',\n",
    "    'PAR': 'Paraguay',\n",
    "    'ECU': 'Ecuador',\n",
    "    'HUN': 'Hungary',\n",
    "    'GAB': 'Gabon',\n",
    "    'IRN': 'Iran',\n",
    "    'POL': 'Poland',\n",
    "    'ALG': 'Algeria',\n",
    "    'ISL': 'Iceland',\n",
    "    'SRB': 'Serbia',\n",
    "    'BIH': 'Bosnia and Herzegovina',\n",
    "    'BFA': 'Burkina Faso',\n",
    "    'GRE': 'Greece',\n",
    "    'NIR': 'Northern Ireland',\n",
    "    'MAR': 'Morocco',\n",
    "    'USA': 'United States'\n",
    "}\n",
    "\n",
    "\n",
    "df['Country'] = df['Country'].map(country_mapping)\n",
    "\n",
    "print(df['Country'].unique())"
   ]
  },
  {
   "cell_type": "code",
   "execution_count": 0,
   "metadata": {
    "application/vnd.databricks.v1+cell": {
     "cellMetadata": {
      "byteLimit": 2048000,
      "rowLimit": 10000
     },
     "inputWidgets": {},
     "nuid": "795103c0-c883-4c7d-aff5-9ef106df9b6e",
     "showTitle": false,
     "tableResultSettingsMap": {},
     "title": ""
    }
   },
   "outputs": [],
   "source": [
    "df.head()"
   ]
  },
  {
   "cell_type": "code",
   "execution_count": 0,
   "metadata": {
    "application/vnd.databricks.v1+cell": {
     "cellMetadata": {
      "byteLimit": 2048000,
      "rowLimit": 10000
     },
     "inputWidgets": {},
     "nuid": "40fefdf4-8bd1-475e-8935-d3855acc1c0d",
     "showTitle": false,
     "tableResultSettingsMap": {},
     "title": ""
    }
   },
   "outputs": [],
   "source": [
    "top_player_per_team = df.loc[df.groupby('Team')['Goals per 90'].idxmax()]\n",
    "top_player_per_team = top_player_per_team.sort_values('Goals per 90', ascending=True)\n",
    "\n",
    "\n",
    "team_player_labels = [f\"{row['Team']} ({row['Player']})\" for _, row in top_player_per_team.iterrows()]\n",
    "\n",
    "sns.barplot(x=top_player_per_team['Goals per 90'], y=team_player_labels, palette='viridis')\n",
    "plt.title('Highest Goals per 90 Player from Each Team')\n",
    "plt.xlabel('Goals per 90')\n",
    "plt.ylabel('Team (Player)')\n",
    "plt.tight_layout()\n",
    "plt.show()"
   ]
  },
  {
   "cell_type": "code",
   "execution_count": 0,
   "metadata": {
    "application/vnd.databricks.v1+cell": {
     "cellMetadata": {
      "byteLimit": 2048000,
      "rowLimit": 10000
     },
     "inputWidgets": {},
     "nuid": "7b938223-c860-4a36-8b6e-196ba63a83e2",
     "showTitle": false,
     "tableResultSettingsMap": {},
     "title": ""
    }
   },
   "outputs": [],
   "source": [
    "country_avg = df.groupby('Country')['Goals per 90'].agg(['mean', 'count']).reset_index()\n",
    "country_filtered = country_avg[country_avg['count'] >= 3].sort_values('mean', ascending=False).head(10)\n",
    "\n",
    "sns.barplot(x=country_filtered.index, y=country_filtered['mean'], palette='plasma')\n",
    "plt.title('Average Goals per 90 by Country (Top 10, min 3 players)')\n",
    "plt.xlabel('Country')\n",
    "plt.ylabel('Average Goals per 90')\n",
    "plt.xticks(range(len(country_filtered)), country_filtered['Country'], rotation=45)\n",
    "plt.tight_layout()\n",
    "plt.show()"
   ]
  },
  {
   "cell_type": "code",
   "execution_count": 0,
   "metadata": {
    "application/vnd.databricks.v1+cell": {
     "cellMetadata": {
      "byteLimit": 2048000,
      "rowLimit": 10000
     },
     "inputWidgets": {},
     "nuid": "b0e24151-270b-499a-b217-0459e7496c65",
     "showTitle": false,
     "tableResultSettingsMap": {},
     "title": ""
    }
   },
   "outputs": [],
   "source": [
    "sns.scatterplot(data=df, x='Matches', y='Total Goals', palette='coolwarm')\n",
    "plt.title('Total Goals vs Matches Played')\n",
    "plt.xlabel('Matches Played')\n",
    "plt.ylabel('Total Goals')\n",
    "plt.tight_layout()\n",
    "plt.show()"
   ]
  },
  {
   "cell_type": "code",
   "execution_count": 0,
   "metadata": {
    "application/vnd.databricks.v1+cell": {
     "cellMetadata": {
      "byteLimit": 2048000,
      "rowLimit": 10000
     },
     "inputWidgets": {},
     "nuid": "c639190d-0932-4813-a1d7-e2bdcc427616",
     "showTitle": false,
     "tableResultSettingsMap": {},
     "title": ""
    }
   },
   "outputs": [],
   "source": [
    "team_avg = df.groupby('Team')['Goals per 90'].mean().sort_values(ascending=False)\n",
    "sns.barplot(x=team_avg.index, y=team_avg.values, palette='Set2')\n",
    "plt.title('Average Goals per 90 by Team')\n",
    "plt.xlabel('Team')\n",
    "plt.ylabel('Average Goals per 90')\n",
    "plt.xticks(rotation=90)\n",
    "plt.tight_layout()\n",
    "plt.show()"
   ]
  },
  {
   "cell_type": "code",
   "execution_count": 0,
   "metadata": {
    "application/vnd.databricks.v1+cell": {
     "cellMetadata": {
      "byteLimit": 2048000,
      "rowLimit": 10000
     },
     "inputWidgets": {},
     "nuid": "2847aaf7-7544-422d-85d8-f0931ce2dce0",
     "showTitle": false,
     "tableResultSettingsMap": {},
     "title": ""
    }
   },
   "outputs": [],
   "source": [
    "sns.lineplot(data=df, x='Minutes', y='Total Goals')\n",
    "plt.title('Total Goals vs Minutes Played')\n",
    "plt.xlabel('Minutes Played')\n",
    "plt.ylabel('Total Goals')\n",
    "plt.tight_layout()\n",
    "plt.show()"
   ]
  },
  {
   "cell_type": "code",
   "execution_count": 0,
   "metadata": {
    "application/vnd.databricks.v1+cell": {
     "cellMetadata": {
      "byteLimit": 2048000,
      "rowLimit": 10000
     },
     "inputWidgets": {},
     "nuid": "1c01fc6d-2f96-4956-a8a1-269adc3a8adf",
     "showTitle": false,
     "tableResultSettingsMap": {},
     "title": ""
    }
   },
   "outputs": [],
   "source": [
    "from sklearn.linear_model import LinearRegression\n",
    "from sklearn.model_selection import train_test_split\n",
    "from sklearn.metrics import mean_squared_error, r2_score\n",
    "from sklearn.preprocessing import StandardScaler\n",
    "from sklearn.pipeline import Pipeline\n",
    "import numpy as np"
   ]
  },
  {
   "cell_type": "code",
   "execution_count": 0,
   "metadata": {
    "application/vnd.databricks.v1+cell": {
     "cellMetadata": {
      "byteLimit": 2048000,
      "rowLimit": 10000
     },
     "inputWidgets": {},
     "nuid": "371cf099-dd91-480c-b1fb-3bff21c7a3af",
     "showTitle": false,
     "tableResultSettingsMap": {},
     "title": ""
    }
   },
   "outputs": [],
   "source": [
    "X = df[['Minutes', 'Matches', 'Goals per 90']].values\n",
    "y = df['Total Goals'].values\n"
   ]
  },
  {
   "cell_type": "code",
   "execution_count": 0,
   "metadata": {
    "application/vnd.databricks.v1+cell": {
     "cellMetadata": {
      "byteLimit": 2048000,
      "rowLimit": 10000
     },
     "inputWidgets": {},
     "nuid": "21daaf9a-652e-4b20-b029-dc7411137c1b",
     "showTitle": false,
     "tableResultSettingsMap": {},
     "title": ""
    }
   },
   "outputs": [],
   "source": [
    "ml_df = pd.DataFrame({\n",
    "    'Minutes': X[:, 0], \n",
    "    'Matches_Played': X[:, 1], \n",
    "    'Goals_per_90': X[:, 2], \n",
    "    'Total_Goals': y\n",
    "})\n",
    "ml_df.head()"
   ]
  },
  {
   "cell_type": "code",
   "execution_count": 0,
   "metadata": {
    "application/vnd.databricks.v1+cell": {
     "cellMetadata": {
      "byteLimit": 2048000,
      "rowLimit": 10000
     },
     "inputWidgets": {},
     "nuid": "049868f2-d13e-49a0-9291-374d3bd522aa",
     "showTitle": false,
     "tableResultSettingsMap": {},
     "title": ""
    }
   },
   "outputs": [],
   "source": [
    "X_train, X_test, y_train, y_test = train_test_split(X, y, test_size=0.2, random_state=42)"
   ]
  },
  {
   "cell_type": "code",
   "execution_count": 0,
   "metadata": {
    "application/vnd.databricks.v1+cell": {
     "cellMetadata": {
      "byteLimit": 2048000,
      "rowLimit": 10000
     },
     "inputWidgets": {},
     "nuid": "da276899-c4e9-4bd5-b9b4-b4201013ee8e",
     "showTitle": false,
     "tableResultSettingsMap": {},
     "title": ""
    }
   },
   "outputs": [],
   "source": [
    "model = LinearRegression()\n",
    "model.fit(X_train, y_train)"
   ]
  },
  {
   "cell_type": "code",
   "execution_count": 0,
   "metadata": {
    "application/vnd.databricks.v1+cell": {
     "cellMetadata": {
      "byteLimit": 2048000,
      "rowLimit": 10000
     },
     "inputWidgets": {},
     "nuid": "a1a1e54e-c89b-45b1-a2f6-b3ff16a43f95",
     "showTitle": false,
     "tableResultSettingsMap": {},
     "title": ""
    }
   },
   "outputs": [],
   "source": [
    "y_pred = model.predict(X_test)\n",
    "\n",
    "y_pred"
   ]
  },
  {
   "cell_type": "code",
   "execution_count": 0,
   "metadata": {
    "application/vnd.databricks.v1+cell": {
     "cellMetadata": {
      "byteLimit": 2048000,
      "rowLimit": 10000
     },
     "inputWidgets": {},
     "nuid": "cc4c80fa-cb0c-492d-9826-1ab7db2ed25e",
     "showTitle": false,
     "tableResultSettingsMap": {},
     "title": ""
    }
   },
   "outputs": [],
   "source": [
    "for i in range(5):\n",
    "    print(f\"Actual: {y_test[i]}, Predicted: {y_pred[i]:.1f}\")"
   ]
  },
  {
   "cell_type": "code",
   "execution_count": 0,
   "metadata": {
    "application/vnd.databricks.v1+cell": {
     "cellMetadata": {
      "byteLimit": 2048000,
      "rowLimit": 10000
     },
     "inputWidgets": {},
     "nuid": "976622db-bcd1-402c-bb9c-55cd47c2e5c3",
     "showTitle": false,
     "tableResultSettingsMap": {},
     "title": ""
    }
   },
   "outputs": [],
   "source": [
    "plt.scatter(y_test, y_pred, color='purple', alpha=0.6, label='Predictions')\n",
    "plt.plot([y_test.min(), y_test.max()], [y_test.min(), y_test.max()], 'r--', lw=2, label='Perfect Prediction')\n",
    "plt.title('Actual vs Predicted Total Goals')\n",
    "plt.xlabel('Actual Total Goals')\n",
    "plt.ylabel('Predicted Total Goals')\n",
    "plt.legend()\n",
    "plt.grid(True)\n",
    "plt.show()"
   ]
  },
  {
   "cell_type": "code",
   "execution_count": 0,
   "metadata": {
    "application/vnd.databricks.v1+cell": {
     "cellMetadata": {
      "byteLimit": 2048000,
      "rowLimit": 10000
     },
     "inputWidgets": {},
     "nuid": "b85ebb78-30fc-4b72-8861-b49d614db4c9",
     "showTitle": false,
     "tableResultSettingsMap": {},
     "title": ""
    }
   },
   "outputs": [],
   "source": [
    "mse = mean_squared_error(y_test, y_pred)\n",
    "r2 = r2_score(y_test, y_pred)\n",
    "\n",
    "print('Mean Squared Error:', mse)\n",
    "print('R2 Score:', r2)"
   ]
  },
  {
   "cell_type": "code",
   "execution_count": 0,
   "metadata": {
    "application/vnd.databricks.v1+cell": {
     "cellMetadata": {
      "byteLimit": 2048000,
      "rowLimit": 10000
     },
     "inputWidgets": {},
     "nuid": "1374d2c3-3cd4-43cf-abf1-900f0f50c1a0",
     "showTitle": false,
     "tableResultSettingsMap": {},
     "title": ""
    }
   },
   "outputs": [],
   "source": [
    "new_player = [[2000, 25, 0.5]] \n",
    "prediction = model.predict(new_player)\n",
    "\n",
    "print(f\"Prediction for new player:\")\n",
    "print(f\"Minutes: {new_player[0][0]}, Matches: {new_player[0][1]}, Goals per 90: {new_player[0][2]}\")\n",
    "print(f\"Predicted Total Goals: {prediction[0]:.1f}\")"
   ]
  }
 ],
 "metadata": {
  "application/vnd.databricks.v1+notebook": {
   "computePreferences": null,
   "dashboards": [],
   "environmentMetadata": null,
   "inputWidgetPreferences": null,
   "language": "python",
   "notebookMetadata": {
    "pythonIndentUnit": 4
   },
   "notebookName": "hackathon_cory",
   "widgets": {}
  },
  "kernelspec": {
   "display_name": "base",
   "language": "python",
   "name": "python3"
  },
  "language_info": {
   "name": "python"
  }
 },
 "nbformat": 4,
 "nbformat_minor": 0
}
